{
 "cells": [
  {
   "cell_type": "markdown",
   "metadata": {},
   "source": []
  },
  {
   "cell_type": "code",
   "execution_count": 1,
   "metadata": {
    "collapsed": true
   },
   "outputs": [],
   "source": [
    "import numpy as np\n",
    "import matplotlib\n",
    "matplotlib.use('PDF')\n",
    "import matplotlib.pyplot as plt\n",
    "\n",
    "########################################################################\n",
    "\n",
    "#-------------- DEFINE THE DATA TO PLOT (or get it from somewhere)\n",
    "\n",
    "x = np.linspace(0,10,25)\n",
    "\n",
    "y_exp = x**0.6 + (np.random.rand(25) -0.5)        # ploting data series below\n",
    "y_1   = x**0.6\n",
    "y_2   = np.sin(x)*2\n",
    "y_3   = np.exp(-0.2*x)*np.cos(x)*2\n",
    "\n",
    "#-------------- SET UP SOME PLOT BOILERPLATE\n",
    "\n",
    "matplotlib.rcParams.update({'font.size':20, 'figure.autolayout': True})\n",
    "fig, ax = plt.subplots()\n",
    "ax.tick_params(direction='in', top='on', right='on')\n",
    "plt.cla()\n",
    "\n",
    "#-------------- MAKE THE PLOT\n",
    "\n",
    "ax.plot(x, y_1,   '-',  color='gray',  linewidth=4)\n",
    "ax.plot(x, y_2,   '--', color='blue',  linewidth=1)\n",
    "ax.plot(x, y_3,   ':',  color='red',   linewidth=1)\n",
    "ax.plot(x, y_exp, 'o',  color='black', markersize=6)\n",
    "\n",
    "ax.set_xlabel(r\"$v_{rms} + \\theta$\", fontsize=22)\n",
    "ax.set_ylabel(\"position\",            fontsize=22)\n",
    "ax.set_xlim([0,10])\n",
    "ax.set_ylim([-2,6])\n",
    "\n",
    "ax.legend([\"T (K)\", r\"$\\Delta_{max}=2$\", r\"$\\rho$ (kg/m$^3$)\", \"Exp\"], loc='upper left', frameon=False, fontsize=16)\n",
    "\n",
    "#-------------- SAVE PLOT TO FILE CALLED plot.pdf (the \".pdf\" is left off below)\n",
    "\n",
    "plt.savefig(\"plot\")"
   ]
  },
  {
   "cell_type": "code",
   "execution_count": null,
   "metadata": {
    "collapsed": true
   },
   "outputs": [],
   "source": []
  }
 ],
 "metadata": {
  "kernelspec": {
   "display_name": "Python 3",
   "language": "python",
   "name": "python3"
  },
  "language_info": {
   "codemirror_mode": {
    "name": "ipython",
    "version": 3
   },
   "file_extension": ".py",
   "mimetype": "text/x-python",
   "name": "python",
   "nbconvert_exporter": "python",
   "pygments_lexer": "ipython3",
   "version": "3.6.2"
  }
 },
 "nbformat": 4,
 "nbformat_minor": 4
}
