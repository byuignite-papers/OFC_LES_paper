{
 "cells": [
  {
   "cell_type": "markdown",
   "metadata": {},
   "source": []
  },
  {
   "cell_type": "code",
   "execution_count": 1,
   "metadata": {
    "collapsed": true
   },
   "outputs": [],
   "source": [
    "import numpy as np\n",
    "import matplotlib\n",
    "matplotlib.use('PDF')\n",
    "import matplotlib.pyplot as plt\n",
    "import matplotlib.ticker as mtick"
   ]
  },
  {
   "cell_type": "code",
   "execution_count": 3,
   "metadata": {
    "collapsed": true
   },
   "outputs": [],
   "source": [
    "#from the simulation\n",
    "x = np.array([0.4, 0.45,0.5,0.55,0.6,0.65,0.7,0.75,0.8,0.85,0.9,0.95,1,1.05,1.1,1.15,1.2])\n",
    "fv = np.array([1.50E-09,4.20E-09,1.05E-08,2.30E-08,4.20E-08,6.07E-08,7.84E-08,1.00E-07,1.24E-07,1.35E-07,1.23E-07,1.00E-07,7.60E-08,5.21E-08,3.31E-08,1.96E-08,1.17E-08])\n",
    "fv = fv * 1e6 #converting to ppmv\n",
    "\n",
    "\n",
    "#from the experiment\n",
    "x_exp = np.array([ 0.4572,0.653,0.8255])\n",
    "fv_exp = np.array([1.30524E-07,7.92918E-08,8.33817E-08])\n",
    "fv_exp = fv_exp * 1e6 #converting to ppmv\n",
    "\n",
    "#plt.plot(x,fv)\n",
    "#plt.plot(x_exp,fv_exp, '*')\n",
    "\n",
    "\n",
    "#-------------- SET UP SOME PLOT BOILERPLATE\n",
    "\n",
    "matplotlib.rcParams.update({'font.size':20, 'figure.autolayout': True})\n",
    "fig, ax = plt.subplots()\n",
    "ax.tick_params(direction='in', top='on', right='on')\n",
    "plt.cla()\n",
    "\n",
    "#-------------- MAKE THE PLOT\n",
    "\n",
    "ax.plot(x, fv,   '-',  color='gray',  linewidth=4)\n",
    "ax.plot(x_exp, fv_exp,   'o', color='blue',  linewidth=1)\n",
    "\n",
    "\n",
    "ax.set_xlabel(\"Distance from burner exit (m)\", fontsize=22)\n",
    "ax.set_ylabel(\"Soot volume fraction (ppmv)\",            fontsize=22)\n",
    "#ax.yaxis.set_major_formatter(mtick.FormatStrFormatter('%.2e')) #makes scientific notation appear on axis\n",
    "\n",
    "#ax.legend([\"Simulation\",\"Experiment\"], loc='upper right', frameon=False, fontsize=8)\n",
    "ax.legend([\"Simulation\",\"Experiment\"], loc='upper right', fontsize=10)\n",
    "#plt.xlim(1,5)\n",
    "\n",
    "#-------------- SAVE PLOT TO FILE CALLED plot.pdf (the \".pdf\" is left off below)\n",
    "\n",
    "plt.savefig(\"plot\")"
   ]
  },
  {
   "cell_type": "code",
   "execution_count": null,
   "metadata": {
    "collapsed": true
   },
   "outputs": [],
   "source": []
  }
 ],
 "metadata": {
  "anaconda-cloud": {},
  "kernelspec": {
   "display_name": "Python 3",
   "language": "python",
   "name": "python3"
  },
  "language_info": {
   "codemirror_mode": {
    "name": "ipython",
    "version": 3
   },
   "file_extension": ".py",
   "mimetype": "text/x-python",
   "name": "python",
   "nbconvert_exporter": "python",
   "pygments_lexer": "ipython3",
   "version": "3.6.2"
  }
 },
 "nbformat": 4,
 "nbformat_minor": 2
}
